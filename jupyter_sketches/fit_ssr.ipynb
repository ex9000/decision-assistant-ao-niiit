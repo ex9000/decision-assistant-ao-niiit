{
 "cells": [
  {
   "cell_type": "code",
   "execution_count": 2,
   "id": "d89479a3-a5cb-44a6-bbf9-88e96248678f",
   "metadata": {},
   "source": [
    "%load_ext jupyter_black"
   ],
   "outputs": []
  },
  {
   "cell_type": "code",
   "execution_count": 5,
   "id": "08c2fb59-22d3-4585-925a-1fce7b3be274",
   "metadata": {},
   "source": [
    "%matplotlib notebook\n",
    "import sympy.stats\n",
    "import sympy as sym\n",
    "import scipy as sp\n",
    "import numpy as np\n",
    "import matplotlib.pyplot as plt\n",
    "from sympy.utilities.lambdify import lambdastr\n",
    "\n",
    "# from mayavi import mlab\n",
    "# from tvtk.api import tvtk"
   ],
   "outputs": []
  },
  {
   "cell_type": "code",
   "execution_count": 6,
   "id": "1e8e0395-4005-4888-b52a-fa74d19ae386",
   "metadata": {},
   "source": [
    "from IPython.display import Math\n",
    "\n",
    "\n",
    "def show(*exprs):\n",
    "    s = r\"\\large\\begin{array}{ll}\"\n",
    "    for e in exprs:\n",
    "        if not isinstance(e, str):\n",
    "            e = sym.interactive.printing.default_latex(e)\n",
    "        s += e + r\" &\\\\\"\n",
    "    s += r\"\\end{array}\"\n",
    "    return Math(s)"
   ],
   "outputs": []
  },
  {
   "cell_type": "markdown",
   "id": "47b0113b-0ee0-45e6-bd00-acc854cf6c15",
   "metadata": {},
   "source": [
    "# Solution for mid +/- offset"
   ]
  },
  {
   "cell_type": "code",
   "execution_count": 8,
   "id": "f18e5263-b5c0-4d73-96dc-e7225749cdb7",
   "metadata": {},
   "source": [
    "ma, m, f = sym.var(\n",
    "    r\"\\bar{a} m f\",\n",
    "    real=True,\n",
    ")\n",
    "\n",
    "md, sa, sd, f, la = sym.var(\n",
    "    r\"\\bar{\\delta} \\langle{a}\\rangle \\langle{\\delta}\\rangle f \\lambda\",\n",
    "    positive=True,\n",
    ")\n",
    "\n",
    "mx, my, mz = sym.var(\n",
    "    r\"\\bar{\\xi} \\bar{\\psi} \\bar{\\zeta}\",\n",
    "    real=True,\n",
    ")\n",
    "\n",
    "sx, sy, sz = sym.var(\n",
    "    r\"\\langle{\\xi}\\rangle \\langle{\\psi}\\rangle \" r\"\\langle{\\zeta}\\rangle\",\n",
    "    positive=True,\n",
    ")\n",
    "\n",
    "xi, psi, zeta = sym.var(r\"x y z\")\n",
    "\n",
    "var_xi, var_psi, var_zeta = sym.var(r\"vx vy vz\")"
   ],
   "outputs": []
  },
  {
   "cell_type": "code",
   "execution_count": 9,
   "id": "0b8a5b5e-2032-4a6a-a84b-b623b369eed1",
   "metadata": {},
   "source": [
    "x = my - mx\n",
    "y = my\n",
    "z = my + mz\n",
    "\n",
    "tsx = sy + sx\n",
    "tsy = sy\n",
    "tsz = sy + sz"
   ],
   "outputs": []
  },
  {
   "cell_type": "code",
   "execution_count": 11,
   "id": "9d590855-16b8-4aa9-bf86-e0c35586b11e",
   "metadata": {},
   "source": [
    "ex = ma + md * (m - f / 2)\n",
    "ey = ma + md * (m)\n",
    "ez = ma + md * (m + f / 2)\n",
    "\n",
    "esx = sa + sd * (m - f / 2) ** 2\n",
    "esy = sa + sd * (m) ** 2\n",
    "esz = sa + sd * (m + f / 2) ** 2"
   ],
   "outputs": []
  },
  {
   "cell_type": "code",
   "execution_count": 13,
   "id": "92e7d0b7-c95c-433d-90d0-96be2fb8bdd9",
   "metadata": {},
   "source": [
    "expr = (\n",
    "    la * ((ex - x) ** 2 + (ey - y) ** 2 + (ez - z) ** 2)\n",
    "    + (esx - tsx) ** 2\n",
    "    + (esy - tsy) ** 2\n",
    "    + (esz - tsz) ** 2\n",
    ")"
   ],
   "outputs": []
  },
  {
   "cell_type": "code",
   "execution_count": 14,
   "id": "a2eb239e-3692-4570-a4c8-d1fbb8912466",
   "metadata": {},
   "source": [
    "dma = expr.diff(ma).simplify()\n",
    "dmd = expr.diff(md).simplify()\n",
    "dsa = expr.diff(sa).simplify()\n",
    "dsd = expr.diff(sd).simplify()\n",
    "dm = expr.diff(m).simplify()\n",
    "df = expr.diff(f).simplify()\n",
    "dla = expr.diff(la).simplify()"
   ],
   "outputs": []
  },
  {
   "cell_type": "code",
   "execution_count": 15,
   "id": "a05a6e3e-8fb9-49dd-927f-c002c38c560c",
   "metadata": {},
   "source": [
    "# lambda is an parameter, not a variable\n",
    "dla"
   ],
   "outputs": []
  },
  {
   "cell_type": "code",
   "execution_count": 16,
   "id": "c04b7868-a3da-4aeb-9b32-201e586ce903",
   "metadata": {},
   "source": [
    "%%time\n",
    "# solving without lambda in variable list, and in differentiation list\n",
    "solutions = sym.solve([dma, dmd, dsa, dsd, dm, df], [ma, md, sa, sd, m, f], dict=True)\n",
    "len(solutions)"
   ],
   "outputs": []
  },
  {
   "cell_type": "code",
   "execution_count": 17,
   "id": "431b79b4-f566-462d-bcd7-74fe051b6588",
   "metadata": {},
   "source": [
    "# f ~ m, so choose f=1\n",
    "solutions[0][f]"
   ],
   "outputs": []
  },
  {
   "cell_type": "markdown",
   "id": "dfc846b5-6e6e-4c69-9d78-ce855d41f267",
   "metadata": {},
   "source": [
    "## Case f=1"
   ]
  },
  {
   "cell_type": "code",
   "execution_count": 18,
   "id": "a756f806-5200-459e-a283-f0f5ed2ab1e8",
   "metadata": {},
   "source": [
    "offset = sym.Rational(1, 2)"
   ],
   "outputs": []
  },
  {
   "cell_type": "code",
   "execution_count": 19,
   "id": "53d6adbc-9369-4499-964c-ea8ed8888fb5",
   "metadata": {},
   "source": [
    "ex = ma + md * (m - offset)\n",
    "ey = ma + md * (m)\n",
    "ez = ma + md * (m + offset)\n",
    "\n",
    "esx = sa + sd * (m - offset) ** 2\n",
    "esy = sa + sd * (m) ** 2\n",
    "esz = sa + sd * (m + offset) ** 2"
   ],
   "outputs": []
  },
  {
   "cell_type": "code",
   "execution_count": 21,
   "id": "f9b6b746-b200-45ef-9da0-2bdfe9a10008",
   "metadata": {},
   "source": [
    "expr = (\n",
    "    la * ((ex - x) ** 2 + (ey - y) ** 2 + (ez - z) ** 2)\n",
    "    + (esx - tsx) ** 2\n",
    "    + (esy - tsy) ** 2\n",
    "    + (esz - tsz) ** 2\n",
    ")"
   ],
   "outputs": []
  },
  {
   "cell_type": "code",
   "execution_count": 22,
   "id": "c6bb9993-b606-4a80-80bd-ce6f7e84ea07",
   "metadata": {},
   "source": [
    "dma = expr.diff(ma).simplify()\n",
    "dmd = expr.diff(md).simplify()\n",
    "dsa = expr.diff(sa).simplify()\n",
    "dsd = expr.diff(sd).simplify()\n",
    "dm = expr.diff(m).simplify()"
   ],
   "outputs": []
  },
  {
   "cell_type": "code",
   "execution_count": 23,
   "id": "79827d67-9aa3-43de-9691-a4fe55e960c2",
   "metadata": {},
   "source": [
    "%%time\n",
    "# solving without `f` in variable list, and in differentiation list\n",
    "solutions = sym.solve([dma, dmd, dsa, dsd, dm], [ma, md, sa, sd, m], dict=True)\n",
    "len(solutions)"
   ],
   "outputs": []
  },
  {
   "cell_type": "code",
   "execution_count": 25,
   "id": "10767059-ecf2-4295-ae08-dfb3dbf40941",
   "metadata": {},
   "source": [
    "# no lambda in formulas\n",
    "show(*[sym.Eq(vr, solutions[0][vr]) for vr in [ma, md, sa, sd, m]])"
   ],
   "outputs": []
  },
  {
   "cell_type": "markdown",
   "id": "36a92672-3713-4d26-bbc4-8db5763ebcda",
   "metadata": {},
   "source": [
    "## Case f=1, lambda=1"
   ]
  },
  {
   "cell_type": "code",
   "execution_count": 26,
   "id": "16791b01-9be9-4a00-87f7-9f082ebd2e70",
   "metadata": {},
   "source": [
    "offset = sym.Rational(1, 2)\n",
    "ex = ma + md * (m - offset)\n",
    "ey = ma + md * (m)\n",
    "ez = ma + md * (m + offset)\n",
    "\n",
    "esx = sa + sd * (m - offset) ** 2\n",
    "esy = sa + sd * (m) ** 2\n",
    "esz = sa + sd * (m + offset) ** 2"
   ],
   "outputs": []
  },
  {
   "cell_type": "code",
   "execution_count": 28,
   "id": "7829bd8d-013b-4b50-b57d-f69004572799",
   "metadata": {},
   "source": [
    "expr = (\n",
    "    1 * ((ex - x) ** 2 + (ey - y) ** 2 + (ez - z) ** 2)\n",
    "    + (esx - tsx) ** 2\n",
    "    + (esy - tsy) ** 2\n",
    "    + (esz - tsz) ** 2\n",
    ")"
   ],
   "outputs": []
  },
  {
   "cell_type": "code",
   "execution_count": 29,
   "id": "4f635cbf-ea8e-4b5c-95c4-f7c6a18b0fc9",
   "metadata": {},
   "source": [
    "dma = expr.diff(ma).simplify()\n",
    "dmd = expr.diff(md).simplify()\n",
    "dsa = expr.diff(sa).simplify()\n",
    "dsd = expr.diff(sd).simplify()\n",
    "dm = expr.diff(m).simplify()"
   ],
   "outputs": []
  },
  {
   "cell_type": "code",
   "execution_count": 30,
   "id": "9e542422-de3c-43f9-a096-04759b8938b1",
   "metadata": {},
   "source": [
    "%%time\n",
    "# solving without `f` in variable list, and in differentiation list\n",
    "solutions = sym.solve([dma, dmd, dsa, dsd, dm], [ma, md, sa, sd, m], dict=True)\n",
    "len(solutions)"
   ],
   "outputs": []
  },
  {
   "cell_type": "code",
   "execution_count": 32,
   "id": "d4666d38-b699-4e0d-92fd-0d895289daeb",
   "metadata": {},
   "source": [
    "# solution are done\n",
    "show(*[sym.Eq(vr, solutions[0][vr]) for vr in [ma, md, sa, sd, m]])"
   ],
   "outputs": []
  },
  {
   "cell_type": "code",
   "execution_count": 34,
   "id": "ddea8554-89c5-4cc3-947c-c92d68e438d0",
   "metadata": {},
   "source": [
    "subs_list = [\n",
    "    (mx, xi),\n",
    "    (my, psi),\n",
    "    (mz, zeta),\n",
    "    (sx, var_xi),\n",
    "    (sy, var_psi),\n",
    "    (sz, var_zeta),\n",
    "]\n",
    "\n",
    "lambdastr(\n",
    "    (xi, psi, zeta, var_xi, var_psi, var_zeta),\n",
    "    [solutions[0][vr].subs(subs_list) for vr in [ma, md, sa, sd, m]],\n",
    ")"
   ],
   "outputs": []
  },
  {
   "cell_type": "markdown",
   "id": "3b69fc68-d6e1-4f73-b112-22e11026bfc0",
   "metadata": {},
   "source": [
    "# Solution for left, mid, right"
   ]
  },
  {
   "cell_type": "code",
   "execution_count": 36,
   "id": "f97d3c2e-0130-4c8d-ba43-39268fb06a27",
   "metadata": {},
   "source": [
    "ex = ma + md * (m - f / 2)\n",
    "ey = ma + md * (m)\n",
    "ez = ma + md * (m + f / 2)\n",
    "\n",
    "esx = sa + sd * (m - f / 2) ** 2\n",
    "esy = sa + sd * (m) ** 2\n",
    "esz = sa + sd * (m + f / 2) ** 2"
   ],
   "outputs": []
  },
  {
   "cell_type": "code",
   "execution_count": 38,
   "id": "2598cf89-4bd4-4c46-839f-3e9e2311366d",
   "metadata": {},
   "source": [
    "expr = (\n",
    "    la * ((ex - mx) ** 2 + (ey - my) ** 2 + (ez - mz) ** 2)\n",
    "    + (esx - sx) ** 2\n",
    "    + (esy - sy) ** 2\n",
    "    + (esz - sz) ** 2\n",
    ")"
   ],
   "outputs": []
  },
  {
   "cell_type": "code",
   "execution_count": 39,
   "id": "73a0d10f-1189-43e0-b643-6fd8d8c3ff70",
   "metadata": {},
   "source": [
    "dma = expr.diff(ma).simplify()\n",
    "dmd = expr.diff(md).simplify()\n",
    "dsa = expr.diff(sa).simplify()\n",
    "dsd = expr.diff(sd).simplify()\n",
    "dm = expr.diff(m).simplify()\n",
    "df = expr.diff(f).simplify()"
   ],
   "outputs": []
  },
  {
   "cell_type": "code",
   "execution_count": 40,
   "id": "12e1cbe4-868b-406d-b3f4-866564c8bd58",
   "metadata": {},
   "source": [
    "%%time\n",
    "solutions = sym.solve([dma, dmd, dsa, dsd, dm, df], [ma, md, sa, sd, m, f], dict=True)\n",
    "len(solutions)"
   ],
   "outputs": []
  },
  {
   "cell_type": "code",
   "execution_count": 42,
   "id": "becf219e-8897-4bf1-8f55-079210caf5f3",
   "metadata": {},
   "source": [
    "# f ~ m, so choose f=1\n",
    "# no lambda in formulas, so lambda = 1\n",
    "show(*[sym.Eq(vr, solutions[0][vr]) for vr in [ma, md, sa, sd, f]])"
   ],
   "outputs": []
  },
  {
   "cell_type": "markdown",
   "id": "d4505ecc-7a05-4679-bca3-f57ecfae1695",
   "metadata": {},
   "source": [
    "## Case f=1 lambda=1"
   ]
  },
  {
   "cell_type": "code",
   "execution_count": 43,
   "id": "95f166c0-838b-4692-a0ba-32106c6b0d5e",
   "metadata": {},
   "source": [
    "offset = sym.Rational(1, 2)\n",
    "ex = ma + md * (m - offset)\n",
    "ey = ma + md * (m)\n",
    "ez = ma + md * (m + offset)\n",
    "\n",
    "esx = sa + sd * (m - offset) ** 2\n",
    "esy = sa + sd * (m) ** 2\n",
    "esz = sa + sd * (m + offset) ** 2"
   ],
   "outputs": []
  },
  {
   "cell_type": "code",
   "execution_count": 45,
   "id": "e8a9a6dc-468c-406a-a878-74d370b87412",
   "metadata": {},
   "source": [
    "expr = (\n",
    "    1 * ((ex - mx) ** 2 + (ey - my) ** 2 + (ez - mz) ** 2)\n",
    "    + (esx - sx) ** 2\n",
    "    + (esy - sy) ** 2\n",
    "    + (esz - sz) ** 2\n",
    ")"
   ],
   "outputs": []
  },
  {
   "cell_type": "code",
   "execution_count": 46,
   "id": "fe41fc14-7a9a-4422-a875-9553923f1b09",
   "metadata": {},
   "source": [
    "dma = expr.diff(ma).simplify()\n",
    "dmd = expr.diff(md).simplify()\n",
    "dsa = expr.diff(sa).simplify()\n",
    "dsd = expr.diff(sd).simplify()\n",
    "dm = expr.diff(m).simplify()"
   ],
   "outputs": []
  },
  {
   "cell_type": "code",
   "execution_count": 47,
   "id": "13670008-7312-4faa-89dc-5d9e643a0f58",
   "metadata": {},
   "source": [
    "%%time\n",
    "# no `f` variable\n",
    "solutions = sym.solve([dma, dmd, dsa, dsd, dm], [ma, md, sa, sd, m], dict=True)\n",
    "len(solutions)"
   ],
   "outputs": []
  },
  {
   "cell_type": "code",
   "execution_count": 49,
   "id": "67768a39-84b9-445f-afb8-f96bf055af64",
   "metadata": {},
   "source": [
    "show(*[sym.Eq(vr, solutions[0][vr]) for vr in [ma, md, sa, sd, m]])"
   ],
   "outputs": []
  },
  {
   "cell_type": "code",
   "execution_count": 51,
   "id": "80543d34-67d6-47c7-9649-ff89546131e1",
   "metadata": {},
   "source": [
    "subs_list = [\n",
    "    (mx, xi),\n",
    "    (my, psi),\n",
    "    (mz, zeta),\n",
    "    (sx, var_xi),\n",
    "    (sy, var_psi),\n",
    "    (sz, var_zeta),\n",
    "]\n",
    "\n",
    "lambdastr(\n",
    "    (xi, psi, zeta, var_xi, var_psi, var_zeta),\n",
    "    [solutions[0][vr].subs(subs_list) for vr in [ma, md, sa, sd, m]],\n",
    ")"
   ],
   "outputs": []
  },
  {
   "cell_type": "code",
   "execution_count": null,
   "id": "8b467ed5-61fa-42e8-a864-43be05ab8561",
   "metadata": {},
   "source": [],
   "outputs": []
  }
 ],
 "metadata": {
  "kernelspec": {
   "display_name": "Python 3 (ipykernel)",
   "language": "python",
   "name": "python3"
  },
  "language_info": {
   "codemirror_mode": {
    "name": "ipython",
    "version": 3
   },
   "file_extension": ".py",
   "mimetype": "text/x-python",
   "name": "python",
   "nbconvert_exporter": "python",
   "pygments_lexer": "ipython3",
   "version": "3.10.12"
  }
 },
 "nbformat": 4,
 "nbformat_minor": 5
}

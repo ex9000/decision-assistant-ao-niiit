{
 "cells": [
  {
   "cell_type": "code",
   "execution_count": 114,
   "id": "0de706df-cda3-4330-bd41-1ff0585a7509",
   "metadata": {},
   "outputs": [
    {
     "data": {
      "text/html": [
       "<style type='text/css'>\n",
       ".CodeMirror{\n",
       "font-size: 12pt;\n",
       "font-family: Fira Code Light\n",
       "}\n",
       "</style>\n"
      ],
      "text/plain": [
       "<IPython.core.display.HTML object>"
      ]
     },
     "metadata": {},
     "output_type": "display_data"
    }
   ],
   "source": [
    "%%html\n",
    "<style type='text/css'>\n",
    ".CodeMirror{\n",
    "font-size: 12pt;\n",
    "font-family: Fira Code Light\n",
    "}\n",
    "</style>"
   ]
  },
  {
   "cell_type": "code",
   "execution_count": 115,
   "id": "42e3eccd-5675-4d66-aaae-f89ccb049399",
   "metadata": {},
   "outputs": [],
   "source": [
    "import black\n",
    "import jupyter_black\n",
    "\n",
    "jupyter_black.load(\n",
    "    lab=True,\n",
    "    line_length=79,\n",
    "    verbosity=\"DEBUG\",\n",
    "    target_version=black.TargetVersion.PY38,\n",
    ")"
   ]
  },
  {
   "cell_type": "code",
   "execution_count": 116,
   "id": "08c2fb59-22d3-4585-925a-1fce7b3be274",
   "metadata": {},
   "outputs": [],
   "source": [
    "%matplotlib notebook\n",
    "import sympy.stats\n",
    "import sympy as sym\n",
    "import scipy as sp\n",
    "import numpy as np\n",
    "import matplotlib.pyplot as plt\n",
    "from sympy.utilities.lambdify import lambdastr\n",
    "# from mayavi import mlab\n",
    "# from tvtk.api import tvtk"
   ]
  },
  {
   "cell_type": "code",
   "execution_count": 117,
   "id": "1e8e0395-4005-4888-b52a-fa74d19ae386",
   "metadata": {},
   "outputs": [],
   "source": [
    "from IPython.display import Math\n",
    "\n",
    "\n",
    "def show(*exprs):\n",
    "    s = r\"\\large\\begin{array}{ll}\"\n",
    "    for e in exprs:\n",
    "        if not isinstance(e, str):\n",
    "            e = sym.interactive.printing.default_latex(e)\n",
    "        s += e + r\" &\\\\\"\n",
    "    s += r\"\\end{array}\"\n",
    "    return Math(s)"
   ]
  },
  {
   "cell_type": "markdown",
   "id": "47b0113b-0ee0-45e6-bd00-acc854cf6c15",
   "metadata": {},
   "source": [
    "# Solution for mid +/- offset"
   ]
  },
  {
   "cell_type": "code",
   "execution_count": 118,
   "id": "f18e5263-b5c0-4d73-96dc-e7225749cdb7",
   "metadata": {},
   "outputs": [],
   "source": [
    "ma, m, f = sym.var(\n",
    "    r\"\\bar{a} m f\",\n",
    "    real=True,\n",
    ")\n",
    "\n",
    "md, sa, sd, f, la = sym.var(\n",
    "    r\"\\bar{\\delta} \\langle{a}\\rangle \\langle{\\delta}\\rangle f \\lambda\",\n",
    "    positive=True,\n",
    ")\n",
    "\n",
    "mx, my, mz = sym.var(\n",
    "    r\"\\bar{\\xi} \\bar{\\psi} \\bar{\\zeta}\",\n",
    "    real=True,\n",
    ")\n",
    "\n",
    "sx, sy, sz = sym.var(\n",
    "    r\"\\langle{\\xi}\\rangle \\langle{\\psi}\\rangle \" r\"\\langle{\\zeta}\\rangle\",\n",
    "    positive=True,\n",
    ")\n",
    "\n",
    "xi, psi, zeta = sym.var(\n",
    "    r\"x y z\"\n",
    ")\n",
    "\n",
    "var_xi, var_psi, var_zeta = sym.var(\n",
    "    r\"vx vy vz\"\n",
    ")"
   ]
  },
  {
   "cell_type": "code",
   "execution_count": 119,
   "id": "0b8a5b5e-2032-4a6a-a84b-b623b369eed1",
   "metadata": {},
   "outputs": [],
   "source": [
    "x = my - mx\n",
    "y = my\n",
    "z = my + mz\n",
    "\n",
    "tsx = sy + sx\n",
    "tsy = sy\n",
    "tsz = sy + sz"
   ]
  },
  {
   "cell_type": "code",
   "execution_count": 120,
   "id": "9d590855-16b8-4aa9-bf86-e0c35586b11e",
   "metadata": {},
   "outputs": [],
   "source": [
    "ex = ma + md * (m - f/2)\n",
    "ey = ma + md * (m)\n",
    "ez = ma + md * (m + f/2)\n",
    "\n",
    "esx = sa + sd * (m - f/2) ** 2\n",
    "esy = sa + sd * (m) ** 2\n",
    "esz = sa + sd * (m + f/2) ** 2"
   ]
  },
  {
   "cell_type": "code",
   "execution_count": 121,
   "id": "92e7d0b7-c95c-433d-90d0-96be2fb8bdd9",
   "metadata": {},
   "outputs": [],
   "source": [
    "expr = (\n",
    "    la*(\n",
    "    (ex - x) ** 2\n",
    "    + (ey - y) ** 2\n",
    "    + (ez - z) ** 2\n",
    "    )\n",
    "    + (esx - tsx) ** 2\n",
    "    + (esy - tsy) ** 2\n",
    "    + (esz - tsz) ** 2\n",
    ")"
   ]
  },
  {
   "cell_type": "code",
   "execution_count": 122,
   "id": "a2eb239e-3692-4570-a4c8-d1fbb8912466",
   "metadata": {},
   "outputs": [],
   "source": [
    "dma = expr.diff(ma).simplify()\n",
    "dmd = expr.diff(md).simplify()\n",
    "dsa = expr.diff(sa).simplify()\n",
    "dsd = expr.diff(sd).simplify()\n",
    "dm = expr.diff(m).simplify()\n",
    "df = expr.diff(f).simplify()\n",
    "dla = expr.diff(la).simplify()"
   ]
  },
  {
   "cell_type": "code",
   "execution_count": 123,
   "id": "a05a6e3e-8fb9-49dd-927f-c002c38c560c",
   "metadata": {},
   "outputs": [
    {
     "data": {
      "text/latex": [
       "$\\displaystyle \\left(\\bar{\\delta} m - \\bar{\\psi} + \\bar{a}\\right)^{2} + \\frac{\\left(\\bar{\\delta} \\left(f - 2 m\\right) + 2 \\bar{\\psi} - 2 \\bar{\\xi} - 2 \\bar{a}\\right)^{2}}{4} + \\frac{\\left(\\bar{\\delta} \\left(f + 2 m\\right) - 2 \\bar{\\psi} - 2 \\bar{\\zeta} + 2 \\bar{a}\\right)^{2}}{4}$"
      ],
      "text/plain": [
       "(\\bar{\\delta}*m - \\bar{\\psi} + \\bar{a})**2 + (\\bar{\\delta}*(f - 2*m) + 2*\\bar{\\psi} - 2*\\bar{\\xi} - 2*\\bar{a})**2/4 + (\\bar{\\delta}*(f + 2*m) - 2*\\bar{\\psi} - 2*\\bar{\\zeta} + 2*\\bar{a})**2/4"
      ]
     },
     "execution_count": 123,
     "metadata": {},
     "output_type": "execute_result"
    }
   ],
   "source": [
    "# lambda is an parameter, not a variable\n",
    "dla"
   ]
  },
  {
   "cell_type": "code",
   "execution_count": 124,
   "id": "c04b7868-a3da-4aeb-9b32-201e586ce903",
   "metadata": {},
   "outputs": [
    {
     "name": "stdout",
     "output_type": "stream",
     "text": [
      "CPU times: user 6.44 s, sys: 0 ns, total: 6.44 s\n",
      "Wall time: 6.44 s\n"
     ]
    },
    {
     "data": {
      "text/plain": [
       "1"
      ]
     },
     "execution_count": 124,
     "metadata": {},
     "output_type": "execute_result"
    }
   ],
   "source": [
    "%%time\n",
    "# solving without lambda in variable list, and in differentiation list\n",
    "solutions = sym.solve([dma, dmd, dsa, dsd, dm, df], [ma, md, sa, sd, m, f], dict=True)\n",
    "len(solutions)"
   ]
  },
  {
   "cell_type": "code",
   "execution_count": 125,
   "id": "431b79b4-f566-462d-bcd7-74fe051b6588",
   "metadata": {},
   "outputs": [
    {
     "data": {
      "text/latex": [
       "$\\displaystyle \\frac{4 m \\left(- \\langle{\\xi}\\rangle - \\langle{\\zeta}\\rangle\\right)}{\\langle{\\xi}\\rangle - \\langle{\\zeta}\\rangle}$"
      ],
      "text/plain": [
       "4*m*(-\\langle{\\xi}\\rangle - \\langle{\\zeta}\\rangle)/(\\langle{\\xi}\\rangle - \\langle{\\zeta}\\rangle)"
      ]
     },
     "execution_count": 125,
     "metadata": {},
     "output_type": "execute_result"
    }
   ],
   "source": [
    "# f ~ m, so choose f=1\n",
    "solutions[0][f]"
   ]
  },
  {
   "cell_type": "markdown",
   "id": "dfc846b5-6e6e-4c69-9d78-ce855d41f267",
   "metadata": {},
   "source": [
    "## Case f=1"
   ]
  },
  {
   "cell_type": "code",
   "execution_count": 126,
   "id": "a756f806-5200-459e-a283-f0f5ed2ab1e8",
   "metadata": {},
   "outputs": [],
   "source": [
    "offset = sym.Rational(1, 2)"
   ]
  },
  {
   "cell_type": "code",
   "execution_count": 127,
   "id": "53d6adbc-9369-4499-964c-ea8ed8888fb5",
   "metadata": {},
   "outputs": [],
   "source": [
    "ex = ma + md * (m - offset)\n",
    "ey = ma + md * (m)\n",
    "ez = ma + md * (m + offset)\n",
    "\n",
    "esx = sa + sd * (m - offset) ** 2\n",
    "esy = sa + sd * (m) ** 2\n",
    "esz = sa + sd * (m + offset) ** 2"
   ]
  },
  {
   "cell_type": "code",
   "execution_count": 128,
   "id": "f9b6b746-b200-45ef-9da0-2bdfe9a10008",
   "metadata": {},
   "outputs": [],
   "source": [
    "expr = (\n",
    "    la*(\n",
    "    (ex - x) ** 2\n",
    "    + (ey - y) ** 2\n",
    "    + (ez - z) ** 2\n",
    "    )\n",
    "    + (esx - tsx) ** 2\n",
    "    + (esy - tsy) ** 2\n",
    "    + (esz - tsz) ** 2\n",
    ")"
   ]
  },
  {
   "cell_type": "code",
   "execution_count": 129,
   "id": "c6bb9993-b606-4a80-80bd-ce6f7e84ea07",
   "metadata": {},
   "outputs": [],
   "source": [
    "dma = expr.diff(ma).simplify()\n",
    "dmd = expr.diff(md).simplify()\n",
    "dsa = expr.diff(sa).simplify()\n",
    "dsd = expr.diff(sd).simplify()\n",
    "dm = expr.diff(m).simplify()"
   ]
  },
  {
   "cell_type": "code",
   "execution_count": 130,
   "id": "79827d67-9aa3-43de-9691-a4fe55e960c2",
   "metadata": {},
   "outputs": [
    {
     "name": "stdout",
     "output_type": "stream",
     "text": [
      "CPU times: user 375 ms, sys: 0 ns, total: 375 ms\n",
      "Wall time: 381 ms\n"
     ]
    },
    {
     "data": {
      "text/plain": [
       "1"
      ]
     },
     "execution_count": 130,
     "metadata": {},
     "output_type": "execute_result"
    }
   ],
   "source": [
    "%%time\n",
    "# solving without `f` in variable list, and in differentiation list\n",
    "solutions = sym.solve([dma, dmd, dsa, dsd, dm], [ma, md, sa, sd, m], dict=True)\n",
    "len(solutions)"
   ]
  },
  {
   "cell_type": "code",
   "execution_count": 131,
   "id": "10767059-ecf2-4295-ae08-dfb3dbf40941",
   "metadata": {},
   "outputs": [
    {
     "data": {
      "text/latex": [
       "$\\displaystyle \\large\\begin{array}{ll}\\bar{a} = \\frac{12 \\bar{\\psi} \\langle{\\xi}\\rangle + 12 \\bar{\\psi} \\langle{\\zeta}\\rangle - \\bar{\\xi} \\langle{\\xi}\\rangle - 7 \\bar{\\xi} \\langle{\\zeta}\\rangle + 7 \\bar{\\zeta} \\langle{\\xi}\\rangle + \\bar{\\zeta} \\langle{\\zeta}\\rangle}{12 \\left(\\langle{\\xi}\\rangle + \\langle{\\zeta}\\rangle\\right)} &\\\\\\bar{\\delta} = \\bar{\\xi} + \\bar{\\zeta} &\\\\\\langle{a}\\rangle = \\frac{8 \\langle{\\psi}\\rangle \\langle{\\xi}\\rangle + 8 \\langle{\\psi}\\rangle \\langle{\\zeta}\\rangle - \\langle{\\xi}\\rangle^{2} + 2 \\langle{\\xi}\\rangle \\langle{\\zeta}\\rangle - \\langle{\\zeta}\\rangle^{2}}{8 \\left(\\langle{\\xi}\\rangle + \\langle{\\zeta}\\rangle\\right)} &\\\\\\langle{\\delta}\\rangle = 2 \\left(\\langle{\\xi}\\rangle + \\langle{\\zeta}\\rangle\\right) &\\\\m = \\frac{- \\langle{\\xi}\\rangle + \\langle{\\zeta}\\rangle}{4 \\langle{\\xi}\\rangle + 4 \\langle{\\zeta}\\rangle} &\\\\\\end{array}$"
      ],
      "text/plain": [
       "<IPython.core.display.Math object>"
      ]
     },
     "execution_count": 131,
     "metadata": {},
     "output_type": "execute_result"
    }
   ],
   "source": [
    "# no lambda in formulas\n",
    "show(*[\n",
    "    sym.Eq(vr, solutions[0][vr])\n",
    "    for vr in [ma, md, sa, sd, m]\n",
    "])"
   ]
  },
  {
   "cell_type": "markdown",
   "id": "36a92672-3713-4d26-bbc4-8db5763ebcda",
   "metadata": {},
   "source": [
    "## Case f=1, lambda=1"
   ]
  },
  {
   "cell_type": "code",
   "execution_count": 132,
   "id": "16791b01-9be9-4a00-87f7-9f082ebd2e70",
   "metadata": {},
   "outputs": [],
   "source": [
    "offset = sym.Rational(1, 2)\n",
    "ex = ma + md * (m - offset)\n",
    "ey = ma + md * (m)\n",
    "ez = ma + md * (m + offset)\n",
    "\n",
    "esx = sa + sd * (m - offset) ** 2\n",
    "esy = sa + sd * (m) ** 2\n",
    "esz = sa + sd * (m + offset) ** 2"
   ]
  },
  {
   "cell_type": "code",
   "execution_count": 133,
   "id": "7829bd8d-013b-4b50-b57d-f69004572799",
   "metadata": {},
   "outputs": [],
   "source": [
    "expr = (\n",
    "    1*(\n",
    "    (ex - x) ** 2\n",
    "    + (ey - y) ** 2\n",
    "    + (ez - z) ** 2\n",
    "    )\n",
    "    + (esx - tsx) ** 2\n",
    "    + (esy - tsy) ** 2\n",
    "    + (esz - tsz) ** 2\n",
    ")"
   ]
  },
  {
   "cell_type": "code",
   "execution_count": 134,
   "id": "4f635cbf-ea8e-4b5c-95c4-f7c6a18b0fc9",
   "metadata": {},
   "outputs": [],
   "source": [
    "dma = expr.diff(ma).simplify()\n",
    "dmd = expr.diff(md).simplify()\n",
    "dsa = expr.diff(sa).simplify()\n",
    "dsd = expr.diff(sd).simplify()\n",
    "dm = expr.diff(m).simplify()"
   ]
  },
  {
   "cell_type": "code",
   "execution_count": 135,
   "id": "9e542422-de3c-43f9-a096-04759b8938b1",
   "metadata": {},
   "outputs": [
    {
     "name": "stdout",
     "output_type": "stream",
     "text": [
      "CPU times: user 288 ms, sys: 0 ns, total: 288 ms\n",
      "Wall time: 292 ms\n"
     ]
    },
    {
     "data": {
      "text/plain": [
       "1"
      ]
     },
     "execution_count": 135,
     "metadata": {},
     "output_type": "execute_result"
    }
   ],
   "source": [
    "%%time\n",
    "# solving without `f` in variable list, and in differentiation list\n",
    "solutions = sym.solve([dma, dmd, dsa, dsd, dm], [ma, md, sa, sd, m], dict=True)\n",
    "len(solutions)"
   ]
  },
  {
   "cell_type": "code",
   "execution_count": 136,
   "id": "d4666d38-b699-4e0d-92fd-0d895289daeb",
   "metadata": {},
   "outputs": [
    {
     "data": {
      "text/latex": [
       "$\\displaystyle \\large\\begin{array}{ll}\\bar{a} = \\frac{12 \\bar{\\psi} \\langle{\\xi}\\rangle + 12 \\bar{\\psi} \\langle{\\zeta}\\rangle - \\bar{\\xi} \\langle{\\xi}\\rangle - 7 \\bar{\\xi} \\langle{\\zeta}\\rangle + 7 \\bar{\\zeta} \\langle{\\xi}\\rangle + \\bar{\\zeta} \\langle{\\zeta}\\rangle}{12 \\left(\\langle{\\xi}\\rangle + \\langle{\\zeta}\\rangle\\right)} &\\\\\\bar{\\delta} = \\bar{\\xi} + \\bar{\\zeta} &\\\\\\langle{a}\\rangle = \\frac{8 \\langle{\\psi}\\rangle \\langle{\\xi}\\rangle + 8 \\langle{\\psi}\\rangle \\langle{\\zeta}\\rangle - \\langle{\\xi}\\rangle^{2} + 2 \\langle{\\xi}\\rangle \\langle{\\zeta}\\rangle - \\langle{\\zeta}\\rangle^{2}}{8 \\left(\\langle{\\xi}\\rangle + \\langle{\\zeta}\\rangle\\right)} &\\\\\\langle{\\delta}\\rangle = 2 \\left(\\langle{\\xi}\\rangle + \\langle{\\zeta}\\rangle\\right) &\\\\m = \\frac{- \\langle{\\xi}\\rangle + \\langle{\\zeta}\\rangle}{4 \\langle{\\xi}\\rangle + 4 \\langle{\\zeta}\\rangle} &\\\\\\end{array}$"
      ],
      "text/plain": [
       "<IPython.core.display.Math object>"
      ]
     },
     "execution_count": 136,
     "metadata": {},
     "output_type": "execute_result"
    }
   ],
   "source": [
    "# solution are done\n",
    "show(*[\n",
    " sym.Eq(vr, solutions[0][vr])\n",
    "    for vr in [ma, md, sa, sd, m]\n",
    "])"
   ]
  },
  {
   "cell_type": "code",
   "execution_count": 137,
   "id": "ddea8554-89c5-4cc3-947c-c92d68e438d0",
   "metadata": {},
   "outputs": [
    {
     "data": {
      "text/plain": [
       "'lambda x,y,z,vx,vy,vz: ([(1/12)*(-vx*x + 12*vx*y + 7*vx*z - 7*vz*x + 12*vz*y + vz*z)/(vx + vz), x + z, (1/8)*(-vx**2 + 8*vx*vy + 2*vx*vz + 8*vy*vz - vz**2)/(vx + vz), 2*vx + 2*vz, (-vx + vz)/(4*vx + 4*vz)])'"
      ]
     },
     "execution_count": 137,
     "metadata": {},
     "output_type": "execute_result"
    }
   ],
   "source": [
    "subs_list = [(mx, xi), (my, psi), (mz, zeta), (sx, var_xi), (sy, var_psi), (sz, var_zeta)]\n",
    "\n",
    "lambdastr((xi, psi, zeta, var_xi, var_psi, var_zeta), [\n",
    "    solutions[0][vr].subs(subs_list)\n",
    "    for vr in [ma, md, sa, sd, m]\n",
    "])"
   ]
  },
  {
   "cell_type": "markdown",
   "id": "3b69fc68-d6e1-4f73-b112-22e11026bfc0",
   "metadata": {},
   "source": [
    "# Solution for left, mid, right"
   ]
  },
  {
   "cell_type": "code",
   "execution_count": 138,
   "id": "f97d3c2e-0130-4c8d-ba43-39268fb06a27",
   "metadata": {},
   "outputs": [],
   "source": [
    "ex = ma + md * (m - f/2)\n",
    "ey = ma + md * (m)\n",
    "ez = ma + md * (m + f/2)\n",
    "\n",
    "esx = sa + sd * (m - f/2) ** 2\n",
    "esy = sa + sd * (m) ** 2\n",
    "esz = sa + sd * (m + f/2) ** 2"
   ]
  },
  {
   "cell_type": "code",
   "execution_count": 139,
   "id": "2598cf89-4bd4-4c46-839f-3e9e2311366d",
   "metadata": {},
   "outputs": [],
   "source": [
    "expr = (\n",
    "    la*(\n",
    "    (ex - mx) ** 2\n",
    "    + (ey - my) ** 2\n",
    "    + (ez - mz) ** 2\n",
    "    )\n",
    "    + (esx - sx) ** 2\n",
    "    + (esy - sy) ** 2\n",
    "    + (esz - sz) ** 2\n",
    ")"
   ]
  },
  {
   "cell_type": "code",
   "execution_count": 140,
   "id": "73a0d10f-1189-43e0-b643-6fd8d8c3ff70",
   "metadata": {},
   "outputs": [],
   "source": [
    "dma = expr.diff(ma).simplify()\n",
    "dmd = expr.diff(md).simplify()\n",
    "dsa = expr.diff(sa).simplify()\n",
    "dsd = expr.diff(sd).simplify()\n",
    "dm = expr.diff(m).simplify()\n",
    "df = expr.diff(f).simplify()"
   ]
  },
  {
   "cell_type": "code",
   "execution_count": 141,
   "id": "12e1cbe4-868b-406d-b3f4-866564c8bd58",
   "metadata": {},
   "outputs": [
    {
     "name": "stdout",
     "output_type": "stream",
     "text": [
      "CPU times: user 51.1 s, sys: 7.77 ms, total: 51.1 s\n",
      "Wall time: 51.2 s\n"
     ]
    },
    {
     "data": {
      "text/plain": [
       "1"
      ]
     },
     "execution_count": 141,
     "metadata": {},
     "output_type": "execute_result"
    }
   ],
   "source": [
    "%%time\n",
    "solutions = sym.solve([dma, dmd, dsa, dsd, dm, df], [ma, md, sa, sd, m, f], dict=True)\n",
    "len(solutions)"
   ]
  },
  {
   "cell_type": "code",
   "execution_count": 142,
   "id": "becf219e-8897-4bf1-8f55-079210caf5f3",
   "metadata": {},
   "outputs": [
    {
     "data": {
      "text/latex": [
       "$\\displaystyle \\large\\begin{array}{ll}\\bar{a} = \\frac{- \\frac{\\left(\\bar{\\xi} - \\bar{\\zeta}\\right) \\left(\\langle{\\xi}\\rangle - \\langle{\\zeta}\\rangle\\right)}{4} + \\frac{\\left(\\bar{\\psi} + \\bar{\\xi} + \\bar{\\zeta}\\right) \\left(- 2 \\langle{\\psi}\\rangle + \\langle{\\xi}\\rangle + \\langle{\\zeta}\\rangle\\right)}{3}}{- 2 \\langle{\\psi}\\rangle + \\langle{\\xi}\\rangle + \\langle{\\zeta}\\rangle} &\\\\\\bar{\\delta} = \\frac{\\left(\\bar{\\xi} - \\bar{\\zeta}\\right) \\left(\\langle{\\xi}\\rangle - \\langle{\\zeta}\\rangle\\right)}{4 m \\left(- 2 \\langle{\\psi}\\rangle + \\langle{\\xi}\\rangle + \\langle{\\zeta}\\rangle\\right)} &\\\\\\langle{a}\\rangle = \\frac{2 \\langle{\\psi}\\rangle^{2} - \\langle{\\psi}\\rangle \\langle{\\xi}\\rangle - \\langle{\\psi}\\rangle \\langle{\\zeta}\\rangle + \\frac{\\langle{\\xi}\\rangle^{2}}{8} - \\frac{\\langle{\\xi}\\rangle \\langle{\\zeta}\\rangle}{4} + \\frac{\\langle{\\zeta}\\rangle^{2}}{8}}{2 \\langle{\\psi}\\rangle - \\langle{\\xi}\\rangle - \\langle{\\zeta}\\rangle} &\\\\\\langle{\\delta}\\rangle = \\frac{- \\langle{\\xi}\\rangle^{2} + 2 \\langle{\\xi}\\rangle \\langle{\\zeta}\\rangle - \\langle{\\zeta}\\rangle^{2}}{8 m^{2} \\cdot \\left(2 \\langle{\\psi}\\rangle - \\langle{\\xi}\\rangle - \\langle{\\zeta}\\rangle\\right)} &\\\\f = \\frac{4 m \\left(2 \\langle{\\psi}\\rangle - \\langle{\\xi}\\rangle - \\langle{\\zeta}\\rangle\\right)}{\\langle{\\xi}\\rangle - \\langle{\\zeta}\\rangle} &\\\\\\end{array}$"
      ],
      "text/plain": [
       "<IPython.core.display.Math object>"
      ]
     },
     "execution_count": 142,
     "metadata": {},
     "output_type": "execute_result"
    }
   ],
   "source": [
    "# f ~ m, so choose f=1\n",
    "# no lambda in formulas, so lambda = 1\n",
    "show(*[\n",
    " sym.Eq(vr, solutions[0][vr])\n",
    "    for vr in [ma, md, sa, sd, f]\n",
    "])"
   ]
  },
  {
   "cell_type": "markdown",
   "id": "d4505ecc-7a05-4679-bca3-f57ecfae1695",
   "metadata": {},
   "source": [
    "## Case f=1 lambda=1"
   ]
  },
  {
   "cell_type": "code",
   "execution_count": 149,
   "id": "95f166c0-838b-4692-a0ba-32106c6b0d5e",
   "metadata": {},
   "outputs": [],
   "source": [
    "offset = sym.Rational(1, 2)\n",
    "ex = ma + md * (m - offset)\n",
    "ey = ma + md * (m)\n",
    "ez = ma + md * (m + offset)\n",
    "\n",
    "esx = sa + sd * (m - offset) ** 2\n",
    "esy = sa + sd * (m) ** 2\n",
    "esz = sa + sd * (m + offset) ** 2"
   ]
  },
  {
   "cell_type": "code",
   "execution_count": 150,
   "id": "e8a9a6dc-468c-406a-a878-74d370b87412",
   "metadata": {},
   "outputs": [],
   "source": [
    "expr = (\n",
    "    1*(\n",
    "    (ex - mx) ** 2\n",
    "    + (ey - my) ** 2\n",
    "    + (ez - mz) ** 2\n",
    "    )\n",
    "    + (esx - sx) ** 2\n",
    "    + (esy - sy) ** 2\n",
    "    + (esz - sz) ** 2\n",
    ")"
   ]
  },
  {
   "cell_type": "code",
   "execution_count": 151,
   "id": "fe41fc14-7a9a-4422-a875-9553923f1b09",
   "metadata": {},
   "outputs": [],
   "source": [
    "dma = expr.diff(ma).simplify()\n",
    "dmd = expr.diff(md).simplify()\n",
    "dsa = expr.diff(sa).simplify()\n",
    "dsd = expr.diff(sd).simplify()\n",
    "dm = expr.diff(m).simplify()"
   ]
  },
  {
   "cell_type": "code",
   "execution_count": 152,
   "id": "13670008-7312-4faa-89dc-5d9e643a0f58",
   "metadata": {},
   "outputs": [
    {
     "name": "stdout",
     "output_type": "stream",
     "text": [
      "CPU times: user 352 ms, sys: 0 ns, total: 352 ms\n",
      "Wall time: 355 ms\n"
     ]
    },
    {
     "data": {
      "text/plain": [
       "1"
      ]
     },
     "execution_count": 152,
     "metadata": {},
     "output_type": "execute_result"
    }
   ],
   "source": [
    "%%time\n",
    "# no `f` variable\n",
    "solutions = sym.solve([dma, dmd, dsa, dsd, dm], [ma, md, sa, sd, m], dict=True)\n",
    "len(solutions)"
   ]
  },
  {
   "cell_type": "code",
   "execution_count": 155,
   "id": "67768a39-84b9-445f-afb8-f96bf055af64",
   "metadata": {},
   "outputs": [
    {
     "data": {
      "text/latex": [
       "$\\displaystyle \\large\\begin{array}{ll}\\bar{a} = \\frac{8 \\bar{\\psi} \\langle{\\psi}\\rangle - 4 \\bar{\\psi} \\langle{\\xi}\\rangle - 4 \\bar{\\psi} \\langle{\\zeta}\\rangle + 8 \\bar{\\xi} \\langle{\\psi}\\rangle - \\bar{\\xi} \\langle{\\xi}\\rangle - 7 \\bar{\\xi} \\langle{\\zeta}\\rangle + 8 \\bar{\\zeta} \\langle{\\psi}\\rangle - 7 \\bar{\\zeta} \\langle{\\xi}\\rangle - \\bar{\\zeta} \\langle{\\zeta}\\rangle}{12 \\cdot \\left(2 \\langle{\\psi}\\rangle - \\langle{\\xi}\\rangle - \\langle{\\zeta}\\rangle\\right)} &\\\\\\bar{\\delta} = - \\bar{\\xi} + \\bar{\\zeta} &\\\\\\langle{a}\\rangle = \\frac{16 \\langle{\\psi}\\rangle^{2} - 8 \\langle{\\psi}\\rangle \\langle{\\xi}\\rangle - 8 \\langle{\\psi}\\rangle \\langle{\\zeta}\\rangle + \\langle{\\xi}\\rangle^{2} - 2 \\langle{\\xi}\\rangle \\langle{\\zeta}\\rangle + \\langle{\\zeta}\\rangle^{2}}{8 \\cdot \\left(2 \\langle{\\psi}\\rangle - \\langle{\\xi}\\rangle - \\langle{\\zeta}\\rangle\\right)} &\\\\\\langle{\\delta}\\rangle = - 2 \\cdot \\left(2 \\langle{\\psi}\\rangle - \\langle{\\xi}\\rangle - \\langle{\\zeta}\\rangle\\right) &\\\\m = \\frac{\\langle{\\xi}\\rangle - \\langle{\\zeta}\\rangle}{8 \\langle{\\psi}\\rangle - 4 \\langle{\\xi}\\rangle - 4 \\langle{\\zeta}\\rangle} &\\\\\\end{array}$"
      ],
      "text/plain": [
       "<IPython.core.display.Math object>"
      ]
     },
     "execution_count": 155,
     "metadata": {},
     "output_type": "execute_result"
    }
   ],
   "source": [
    "show(*[\n",
    " sym.Eq(vr, solutions[0][vr])\n",
    "    for vr in [ma, md, sa, sd, m]\n",
    "])"
   ]
  },
  {
   "cell_type": "code",
   "execution_count": 148,
   "id": "80543d34-67d6-47c7-9649-ff89546131e1",
   "metadata": {},
   "outputs": [
    {
     "data": {
      "text/plain": [
       "'lambda x,y,z,vx,vy,vz: ([(1/12)*(-vx*x - 4*vx*y - 7*vx*z + 8*vy*x + 8*vy*y + 8*vy*z - 7*vz*x - 4*vz*y - vz*z)/(-vx + 2*vy - vz), -x + z, (1/8)*(vx**2 - 8*vx*vy - 2*vx*vz + 16*vy**2 - 8*vy*vz + vz**2)/(-vx + 2*vy - vz), 2*vx - 4*vy + 2*vz, (vx - vz)/(-4*vx + 8*vy - 4*vz)])'"
      ]
     },
     "execution_count": 148,
     "metadata": {},
     "output_type": "execute_result"
    }
   ],
   "source": [
    "subs_list = [(mx, xi), (my, psi), (mz, zeta), (sx, var_xi), (sy, var_psi), (sz, var_zeta)]\n",
    "\n",
    "lambdastr((xi, psi, zeta, var_xi, var_psi, var_zeta), [\n",
    "    solutions[0][vr].subs(subs_list)\n",
    "    for vr in [ma, md, sa, sd, m]\n",
    "])"
   ]
  },
  {
   "cell_type": "code",
   "execution_count": null,
   "id": "8b467ed5-61fa-42e8-a864-43be05ab8561",
   "metadata": {},
   "outputs": [],
   "source": []
  }
 ],
 "metadata": {
  "kernelspec": {
   "display_name": "Python 3 (ipykernel)",
   "language": "python",
   "name": "python3"
  },
  "language_info": {
   "codemirror_mode": {
    "name": "ipython",
    "version": 3
   },
   "file_extension": ".py",
   "mimetype": "text/x-python",
   "name": "python",
   "nbconvert_exporter": "python",
   "pygments_lexer": "ipython3",
   "version": "3.10.12"
  }
 },
 "nbformat": 4,
 "nbformat_minor": 5
}

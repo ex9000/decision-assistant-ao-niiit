{
 "cells": [
  {
   "cell_type": "markdown",
   "id": "559ae398-cbae-4fea-b099-746dfa088776",
   "metadata": {},
   "source": [
    "# Triangle Symmetric Normal Distribution Shift Scale Representation"
   ]
  },
  {
   "cell_type": "code",
   "execution_count": 1,
   "id": "f21db357-1e4c-4288-b83c-d5b0e243f1fa",
   "metadata": {},
   "outputs": [
    {
     "data": {
      "text/html": [
       "\n",
       "                <script type=\"application/javascript\" id=\"jupyter_black\">\n",
       "                (function() {\n",
       "                    if (window.IPython === undefined) {\n",
       "                        return\n",
       "                    }\n",
       "                    var msg = \"WARNING: it looks like you might have loaded \" +\n",
       "                        \"jupyter_black in a non-lab notebook with \" +\n",
       "                        \"`is_lab=True`. Please double check, and if \" +\n",
       "                        \"loading with `%load_ext` please review the README!\"\n",
       "                    console.log(msg)\n",
       "                    alert(msg)\n",
       "                })()\n",
       "                </script>\n",
       "                "
      ],
      "text/plain": [
       "<IPython.core.display.HTML object>"
      ]
     },
     "metadata": {},
     "output_type": "display_data"
    }
   ],
   "source": [
    "%load_ext jupyter_black"
   ]
  },
  {
   "cell_type": "code",
   "execution_count": 2,
   "id": "7993b7f3-799d-48b8-8671-361b4fb9e787",
   "metadata": {},
   "outputs": [],
   "source": [
    "%matplotlib notebook\n",
    "import sympy.stats\n",
    "import sympy as sym\n",
    "import scipy as sp\n",
    "import numpy as np\n",
    "import matplotlib.pyplot as plt\n",
    "from sympy.utilities.lambdify import lambdastr"
   ]
  },
  {
   "cell_type": "code",
   "execution_count": 3,
   "id": "907158a2-c6cc-4731-b328-4efd66358764",
   "metadata": {},
   "outputs": [],
   "source": [
    "from IPython.display import Math\n",
    "\n",
    "\n",
    "def show(*exprs):\n",
    "    s = r\"\\large\\begin{array}{ll}\"\n",
    "    for e in exprs:\n",
    "        if not isinstance(e, str):\n",
    "            e = sym.interactive.printing.default_latex(e)\n",
    "        s += e + r\" &\\\\\"\n",
    "    s += r\"\\end{array}\"\n",
    "    return Math(s)"
   ]
  },
  {
   "cell_type": "markdown",
   "id": "ad12a694-d237-4a62-b2d5-baec5530033b",
   "metadata": {},
   "source": [
    "# Evaluete expected values"
   ]
  },
  {
   "cell_type": "code",
   "execution_count": 4,
   "id": "9b240b3d-667c-440c-af4d-5c17bd87f404",
   "metadata": {},
   "outputs": [],
   "source": [
    "a, d, m, f, b = sym.var(\"a, d, m, f, b\")"
   ]
  },
  {
   "cell_type": "code",
   "execution_count": 5,
   "id": "2246bf4f-5116-4ca2-8ce0-7d701f71e9e6",
   "metadata": {},
   "outputs": [
    {
     "data": {
      "text/latex": [
       "$\\displaystyle a + d \\left(\\frac{b f}{2} + m\\right)$"
      ],
      "text/plain": [
       "a + d*(b*f/2 + m)"
      ]
     },
     "execution_count": 5,
     "metadata": {},
     "output_type": "execute_result"
    }
   ],
   "source": [
    "expr = a + d * (m + b * f / 2)\n",
    "expr"
   ]
  },
  {
   "cell_type": "code",
   "execution_count": 8,
   "id": "1f3ba74a-d55d-4202-ba8c-1525675816f2",
   "metadata": {},
   "outputs": [
    {
     "data": {
      "text/latex": [
       "$\\displaystyle a + \\frac{b d f}{2} + d m$"
      ],
      "text/plain": [
       "a + b*d*f/2 + d*m"
      ]
     },
     "execution_count": 8,
     "metadata": {},
     "output_type": "execute_result"
    }
   ],
   "source": [
    "res = expr.expand().collect(b)\n",
    "res"
   ]
  },
  {
   "cell_type": "code",
   "execution_count": null,
   "id": "e82f28e2-1538-4cb9-b836-e60c486065d4",
   "metadata": {},
   "outputs": [],
   "source": []
  }
 ],
 "metadata": {
  "kernelspec": {
   "display_name": "Python 3 (ipykernel)",
   "language": "python",
   "name": "python3"
  },
  "language_info": {
   "codemirror_mode": {
    "name": "ipython",
    "version": 3
   },
   "file_extension": ".py",
   "mimetype": "text/x-python",
   "name": "python",
   "nbconvert_exporter": "python",
   "pygments_lexer": "ipython3",
   "version": "3.10.12"
  }
 },
 "nbformat": 4,
 "nbformat_minor": 5
}
